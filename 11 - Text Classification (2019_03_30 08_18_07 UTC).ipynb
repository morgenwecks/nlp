{
 "cells": [
  {
   "cell_type": "markdown",
   "metadata": {},
   "source": [
    "# Text Classification"
   ]
  },
  {
   "cell_type": "markdown",
   "metadata": {},
   "source": [
    "Now that we're comfortable with NLTK, let's try to tackle text classification. \n",
    "\n",
    "The goal with text classification can be pretty broad. Maybe we're trying to classify text as about politics or the military. \n",
    "\n",
    "Maybe we're trying to classify it by the gender of the author who wrote it.\n",
    "\n",
    "A fairly popular text classification task is to identify a body of text as **either spam or not spam**, for things like email filters. In our case, we're going to try to **create a sentiment analysis algorithm**."
   ]
  },
  {
   "cell_type": "markdown",
   "metadata": {},
   "source": [
    "To do this, we're going to start by trying to use the **movie reviews database that is part of the NLTK corpus**. From there we'll try to use **words as \"features\" which are a part of either a positive or negative movie review**. The NLTK corpus movie_reviews data set has the reviews, and they are labeled already as positive or negative. This means we can train and test with this data. First, let's wrangle our data."
   ]
  },
  {
   "cell_type": "code",
   "execution_count": null,
   "metadata": {},
   "outputs": [],
   "source": []
  },
  {
   "cell_type": "code",
   "execution_count": 24,
   "metadata": {},
   "outputs": [
    {
     "name": "stdout",
     "output_type": "stream",
     "text": [
      "(['here', \"'\", 's', 'something', 'to', 'chew', 'on', ':', 'what', \"'\", 's', 'the', 'favorite', 'food', 'of', 'big', ',', 'cheesy', '-', 'looking', 'special', 'effects', 'monsters', 'like', 'the', 'one', 'lurking', 'in', 'the', 'bowels', 'of', 'a', 'luxury', 'liner', 'in', 'deep', 'rising', '?', 'the', 'obvious', 'answer', 'to', 'this', 'question', 'is', 'cardboard', ',', 'because', 'that', \"'\", 's', 'the', 'depth', 'of', 'the', 'most', 'fully', '-', 'developed', 'character', 'in', 'this', 'painfully', 'generic', 'creature', 'feature', '.', 'deep', 'rising', 'demonstrates', 'all', 'the', 'originality', 'and', 'vitality', 'of', 'something', 'scripted', 'by', 'a', 'computer', '.', 'in', 'fact', ',', 'considering', 'the', 'rigid', 'adherence', 'to', 'the', 'expected', 'formulas', ',', 'perhaps', 'it', 'was', '.', 'the', 'most', 'astonishing', 'thing', 'about', 'deep', 'rising', 'is', 'the', 'exceptionally', 'high', 'level', 'of', 'gore', '.', 'not', 'since', 'starship', 'troopers', 'have', 'this', 'many', 'chunks', 'of', 'flesh', '(', 'both', 'human', 'and', 'non', '-', 'human', ')', 'been', 'scattered', 'in', 'all', 'directions', '.', 'we', 'learn', 'some', 'bloody', 'trivia', ',', 'as', 'well', ',', 'such', 'as', 'how', 'a', 'sea', 'monster', 'spraypaints', 'in', 'red', '(', 'it', 'drinks', 'a', 'human', 'being', 'then', 'spits', 'out', 'the', 'liquefied', 'remains', ')', 'and', 'what', 'it', 'does', 'with', 'half', '-', 'digested', 'leftovers', '.', 'i', 'suppose', 'deep', 'rising', \"'\", 's', 'gallery', 'of', 'grotesque', 'images', 'represents', 'fun', 'stuff', 'for', 'those', 'who', 'love', 'the', 'macabre', ',', 'but', 'it', 'doesn', \"'\", 't', 'do', 'much', 'for', 'me', '.', 'on', 'the', 'surface', ',', 'and', 'that', \"'\", 's', 'about', 'the', 'only', 'level', 'at', 'which', 'this', 'film', 'can', 'be', 'analyzed', ',', 'deep', 'rising', 'feels', 'like', 'tremors', 'grafted', 'onto', 'titanic', '(', 'everyone', 'else', 'is', 'citing', 'the', 'equally', 'valid', 'aliens', '/', 'titanic', 'connection', ',', 'since', 'james', 'cameron', 'directed', 'both', ')', '.', 'in', 'going', 'for', 'the', 'big', 'disaster', 'angle', 'of', 'titanic', 'and', 'the', 'tongue', '-', 'in', '-', 'cheek', 'mayhem', 'of', 'tremors', ',', 'deep', 'rising', 'somehow', 'misses', 'both', 'marks', 'by', 'a', 'wide', 'margin', '.', 'the', 'film', 'is', 'not', 'humorous', ',', 'tense', ',', 'or', 'exciting', '.', 'in', 'fact', ',', 'it', \"'\", 's', 'downright', 'boring', ',', 'and', ',', 'despite', 'being', 'half', 'the', 'length', 'of', 'cameron', \"'\", 's', 'current', 'box', '-', 'office', 'champ', ',', 'deep', 'rising', 'feels', 'like', 'the', 'longer', 'movie', '.', 'is', 'it', 'really', 'necessary', 'to', 'say', 'anything', 'about', 'the', 'plot', '?', 'probably', 'not', ',', 'since', 'it', \"'\", 's', 'easy', 'to', 'guess', ',', 'but', 'i', \"'\", 'll', 'go', 'ahead', 'and', 'oblige', 'anyone', 'who', 'wants', 'a', 'synopsis', '.', 'the', 'film', 'opens', 'by', 'introducing', 'us', 'to', 'a', 'gang', 'of', 'bad', 'guys', 'on', 'board', 'a', 'mercenary', 'ship', '.', 'in', 'addition', 'to', 'the', 'usual', 'cast', 'of', 'psychopaths', 'and', 'lunatics', ',', 'there', \"'\", 's', 'finnegan', '(', 'treat', 'williams', ')', ',', 'the', 'boat', \"'\", 's', 'pilot', ',', 'who', \"'\", 's', 'supposed', 'to', 'be', 'an', 'indiana', 'jones', 'knockoff', ';', 'joey', '(', 'kevin', 'j', '.', 'o', \"'\", 'connor', ')', ',', 'the', 'inept', 'sidekick', 'who', \"'\", 's', 'supposed', 'to', 'be', 'lovable', 'and', 'funny', '(', 'but', 'is', 'really', 'just', 'irritating', ')', ';', 'and', 'hanover', '(', 'wes', 'studi', ')', ',', 'the', '\"', 'mastermind', '\"', '(', 'and', 'i', 'use', 'that', 'term', 'lightly', ')', 'of', 'the', 'operation', '.', 'their', 'goal', ':', 'attack', 'a', 'cruise', 'ship', ',', 'clean', 'out', 'the', 'safe', ',', 'then', 'sink', 'it', 'using', 'some', 'illegally', '-', 'acquired', 'torpedoes', '.', 'the', 'problem', 'is', ',', 'by', 'the', 'time', 'they', 'reach', 'the', 'argonautica', ',', 'the', 'titanic', '-', 'like', 'luxury', 'liner', 'has', 'turned', 'into', 'the', 'marie', 'celeste', '.', 'aside', 'from', 'a', 'beautiful', 'jewel', 'thief', '(', 'famke', 'janssen', ')', 'and', 'a', 'couple', 'of', 'crew', 'members', ',', 'there', \"'\", 's', 'no', 'one', 'on', 'board', '.', 'the', 'reason', 'soon', 'becomes', 'obvious', '--', 'the', 'ship', 'has', 'been', 'taken', 'over', 'by', 'a', 'bad', 'special', 'effect', 'that', 'is', 'supposed', 'to', 'resemble', 'an', 'octopus', 'with', 'teeth', 'and', 'more', 'than', 'eight', 'tentacles', '.', 'the', 'cast', ',', 'which', 'is', 'led', 'by', 'treat', 'williams', ',', 'is', 'primarily', 'comprised', 'of', 'has', '-', 'beens', 'and', 'probably', '-', 'never', '-', 'will', '-', 'bes', '(', 'two', 'exceptions', ':', 'wes', 'studi', ',', 'best', 'known', 'as', 'the', 'villain', 'in', 'the', 'last', 'of', 'the', 'mohicans', ',', 'and', 'djimon', 'hounsou', ',', 'amistad', \"'\", 's', 'cinque', ')', '.', 'williams', ',', 'once', 'a', '\"', 'can', \"'\", 't', 'miss', '\"', 'prospect', 'in', 'hollywood', ',', 'has', 'fallen', 'so', 'far', 'out', 'of', 'favor', 'that', 'the', 'best', 'he', 'can', 'do', 'these', 'days', 'for', 'a', 'lead', 'role', 'is', 'a', 'film', 'like', 'deep', 'rising', ',', 'and', 'his', 'inability', 'to', 'create', 'a', 'charismatic', 'or', 'interesting', 'figure', 'here', 'may', 'sink', 'whatever', 'is', 'left', 'of', 'his', 'sputtering', 'career', '.', 'famke', 'janssen', ',', 'who', 'will', 'forever', 'be', 'known', 'as', 'xenia', 'onatopp', 'from', 'goldeneye', ',', 'is', 'the', 'perfect', 'bland', 'match', 'for', 'williams', '.', 'given', 'her', 'limited', 'acting', 'abilities', ',', 'it', \"'\", 's', 'likely', 'that', 'she', 'was', 'chosen', 'for', 'this', 'part', 'primarily', 'on', 'the', 'basis', 'of', 'her', 'physical', 'attributes', '.', 'unfortunately', ',', 'a', 'bra', 'defeats', 'the', 'purpose', 'of', 'having', 'her', 'in', 'a', 'wet', 'tee', '-', 'shirt', 'for', 'half', 'of', 'the', 'picture', '.', 'meanwhile', ',', 'kevin', 'j', '.', 'o', \"'\", 'connor', ',', 'who', 'has', 'entirely', 'too', 'much', 'screen', 'time', ',', 'exhibits', 'all', 'the', 'appeal', 'of', 'fingernails', 'scratching', 'a', 'blackboard', '.', 'these', 'days', ',', 'audiences', 'are', 'becoming', 'more', 'difficult', 'to', 'impress', 'with', 'computer', '-', 'generated', 'special', 'effects', '.', 'this', 'is', 'a', 'lesson', 'that', 'writer', '/', 'director', 'stephen', 'sommers', '(', 'who', 'previously', 'helmed', 'the', 'live', '-', 'action', 'jungle', 'book', ')', 'needs', 'to', 'learn', '.', 'the', 'days', 'of', 'jurassic', 'park', ',', 'when', 'viewers', 'were', 'astounded', 'by', 'the', 'mere', 'spectacle', 'of', 'seeing', 'something', 'big', 'and', 'imposing', 'on', 'screen', ',', 'are', 'past', '.', 'now', ',', 'movie', '-', 'goers', 'are', 'looking', 'for', 'the', 'sophistication', 'of', 'titanic', '--', 'visuals', 'that', 'are', 'so', 'well', '-', 'incorporated', 'that', 'it', \"'\", 's', 'impossible', 'to', 'tell', 'where', 'they', 'end', 'and', 'where', '\"', 'reality', '\"', 'begins', '.', 'in', 'deep', 'rising', ',', 'the', 'monster', ',', 'like', 'everything', ',', 'is', 'artificial', 'and', 'unconvincing', '.', 'unfortunately', ',', 'the', 'fundamental', 'problem', 'audiences', 'are', 'faced', 'with', 'here', 'isn', \"'\", 't', 'so', 'much', 'the', 'idiotic', 'monotony', 'of', 'this', 'individual', 'picture', ',', 'but', 'the', 'poor', 'quality', 'of', 'the', 'entire', 'bankrupt', 'genre', '(', 'although', ',', 'to', 'be', 'fair', ',', 'deep', 'rising', 'is', 'a', 'particularly', 'bad', 'entry', ')', '.', 'even', 'once', 'this', 'film', 'has', 'sunk', 'out', 'of', 'sight', ',', 'the', 'knowledgeable', 'viewer', 'knows', 'it', 'won', \"'\", 't', 'be', 'the', 'last', 'of', 'its', 'kind', '.', 'like', 'the', 'slimy', ',', 'slithering', 'things', 'that', 'inhabit', 'the', 'air', 'vents', 'and', 'pipes', 'of', 'these', 'movies', ',', 'more', 'are', 'waiting', 'just', 'around', 'the', 'corner', 'in', 'ambush', '.', 'and', 'that', 'consideration', ',', 'unlike', 'anything', 'on', 'screen', ',', 'is', 'truly', 'horrifying', '.'], 'neg')\n",
      "[(',', 77717), ('the', 76529), ('.', 65876), ('a', 38106), ('and', 35576), ('of', 34123), ('to', 31937), (\"'\", 30585), ('is', 25195), ('in', 21822), ('s', 18513), ('\"', 17612), ('it', 16107), ('that', 15924), ('-', 15595)]\n",
      "253\n"
     ]
    }
   ],
   "source": [
    "import nltk\n",
    "import random\n",
    "from nltk.corpus import movie_reviews\n",
    "\n",
    "documents = [(list(movie_reviews.words(fileid)), category)\n",
    "             for category in movie_reviews.categories()\n",
    "             for fileid in movie_reviews.fileids(category)]\n",
    "\n",
    "random.shuffle(documents)\n",
    "\n",
    "print(documents[1])\n",
    "\n",
    "all_words = []\n",
    "for w in movie_reviews.words():\n",
    "    all_words.append(w.lower())\n",
    "\n",
    "all_words = nltk.FreqDist(all_words) # chuck all the words in all the reviews into that list\n",
    "print(all_words.most_common(15))\n",
    "print(all_words[\"stupid\"])"
   ]
  },
  {
   "cell_type": "raw",
   "metadata": {},
   "source": [
    "documents = [(list(movie_reviews.words(fileid)), category)\n",
    "             for category in movie_reviews.categories()\n",
    "             for fileid in movie_reviews.fileids(category)]"
   ]
  },
  {
   "cell_type": "markdown",
   "metadata": {},
   "source": [
    "Basically, in plain English, the above code is translated to: In each category (we have pos or neg), take all of the file IDs (each review has its own ID), then store the word_tokenized version (a list of words) for the file ID, followed by the positive or negative label in one big list."
   ]
  },
  {
   "cell_type": "markdown",
   "metadata": {},
   "source": [
    "Next, we use random to shuffle our documents. This is because we're going to be training and testing. If we left them in order, chances are we'd train on all of the negatives, some positives, and then test only against positives. We don't want that, so we shuffle the data."
   ]
  },
  {
   "cell_type": "markdown",
   "metadata": {},
   "source": [
    "Then, just so you can see the data you are working with, we print out documents[1], which is a big list, where the first element is a list of the words, and the 2nd element is the \"pos\" or \"neg\" label. Note to self, that'd be a list of tuples, each tuple containing a) the review, b) the sentiment"
   ]
  },
  {
   "cell_type": "markdown",
   "metadata": {},
   "source": [
    "Next, we want to collect all words that we find, so we can have a massive list of typical words. From here, we can perform a **frequency distribution**, to then find out the most common words. As you will see, the most popular \"words\" are actually things like punctuation, \"the,\" \"a\" and so on, but quickly we get to legitimate words. We intend to store a few thousand of the most popular words, so this shouldn't be a problem."
   ]
  },
  {
   "cell_type": "code",
   "execution_count": 19,
   "metadata": {},
   "outputs": [
    {
     "name": "stdout",
     "output_type": "stream",
     "text": [
      "[(',', 77717), ('the', 76529), ('.', 65876), ('a', 38106), ('and', 35576), ('of', 34123), ('to', 31937), (\"'\", 30585), ('is', 25195), ('in', 21822), ('s', 18513), ('\"', 17612), ('it', 16107), ('that', 15924), ('-', 15595)]\n"
     ]
    }
   ],
   "source": [
    "print(all_words.most_common(15))"
   ]
  },
  {
   "cell_type": "markdown",
   "metadata": {},
   "source": [
    "The above gives you the 15 most common words. You can also find out how many occurences a word has by doing:"
   ]
  },
  {
   "cell_type": "code",
   "execution_count": 23,
   "metadata": {},
   "outputs": [
    {
     "name": "stdout",
     "output_type": "stream",
     "text": [
      "253\n"
     ]
    }
   ],
   "source": [
    "print(all_words[\"stupid\"])"
   ]
  },
  {
   "cell_type": "markdown",
   "metadata": {},
   "source": [
    "Next up, we'll begin storing our words as features of either positive or negative movie reviews."
   ]
  },
  {
   "cell_type": "code",
   "execution_count": null,
   "metadata": {},
   "outputs": [],
   "source": []
  }
 ],
 "metadata": {
  "kernelspec": {
   "display_name": "Python 3",
   "language": "python",
   "name": "python3"
  },
  "language_info": {
   "codemirror_mode": {
    "name": "ipython",
    "version": 3
   },
   "file_extension": ".py",
   "mimetype": "text/x-python",
   "name": "python",
   "nbconvert_exporter": "python",
   "pygments_lexer": "ipython3",
   "version": "3.6.5"
  }
 },
 "nbformat": 4,
 "nbformat_minor": 2
}
