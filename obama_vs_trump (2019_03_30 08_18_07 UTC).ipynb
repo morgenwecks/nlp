{
 "cells": [
  {
   "cell_type": "code",
   "execution_count": 1,
   "metadata": {},
   "outputs": [],
   "source": [
    "import pandas as pd\n",
    "import seaborn as sns\n",
    "import matplotlib.pyplot as plt\n",
    "import numpy as np\n",
    "%matplotlib inline"
   ]
  },
  {
   "cell_type": "code",
   "execution_count": 3,
   "metadata": {},
   "outputs": [],
   "source": [
    "df = pd.read_excel(r\"C:\\Users\\morge\\Dropbox\\capstone\\19092018_df_for_labeling_EXCEL_STEFAN.xlsx\")"
   ]
  },
  {
   "cell_type": "code",
   "execution_count": 9,
   "metadata": {},
   "outputs": [
    {
     "data": {
      "text/plain": [
       "(52148, 4)"
      ]
     },
     "execution_count": 9,
     "metadata": {},
     "output_type": "execute_result"
    }
   ],
   "source": [
    "df.shape"
   ]
  },
  {
   "cell_type": "code",
   "execution_count": 11,
   "metadata": {},
   "outputs": [],
   "source": [
    "df.columns = ['id','cat','title','abstract']"
   ]
  },
  {
   "cell_type": "code",
   "execution_count": 12,
   "metadata": {},
   "outputs": [],
   "source": [
    "df['cat'] = df['cat'].astype(str).str[0:4]"
   ]
  },
  {
   "cell_type": "code",
   "execution_count": 6,
   "metadata": {},
   "outputs": [],
   "source": [
    "import nltk\n",
    "import random\n",
    "from nltk.stem import PorterStemmer\n",
    "from nltk.corpus import stopwords\n",
    "from nltk.stem import WordNetLemmatizer\n",
    "\n",
    "porter = PorterStemmer()\n",
    "wnl = WordNetLemmatizer() \n",
    "stop = stopwords.words('english')"
   ]
  },
  {
   "cell_type": "markdown",
   "metadata": {},
   "source": [
    "Tokenizing each Tweet"
   ]
  },
  {
   "cell_type": "code",
   "execution_count": 13,
   "metadata": {},
   "outputs": [],
   "source": [
    "from nltk.tokenize import word_tokenize"
   ]
  },
  {
   "cell_type": "code",
   "execution_count": 14,
   "metadata": {},
   "outputs": [],
   "source": [
    "df['title'] = df['title'].astype(str).str.lower()"
   ]
  },
  {
   "cell_type": "code",
   "execution_count": 15,
   "metadata": {},
   "outputs": [],
   "source": [
    "df['tokens'] = df['title'].apply(word_tokenize)"
   ]
  },
  {
   "cell_type": "code",
   "execution_count": 17,
   "metadata": {},
   "outputs": [
    {
     "ename": "NameError",
     "evalue": "name 'df_both' is not defined",
     "output_type": "error",
     "traceback": [
      "\u001b[1;31m---------------------------------------------------------------------------\u001b[0m",
      "\u001b[1;31mNameError\u001b[0m                                 Traceback (most recent call last)",
      "\u001b[1;32m<ipython-input-17-cad775532523>\u001b[0m in \u001b[0;36m<module>\u001b[1;34m()\u001b[0m\n\u001b[1;32m----> 1\u001b[1;33m \u001b[0mdf\u001b[0m\u001b[1;33m[\u001b[0m\u001b[1;34m'tokens'\u001b[0m\u001b[1;33m]\u001b[0m\u001b[1;33m=\u001b[0m \u001b[0mdf_both\u001b[0m\u001b[1;33m[\u001b[0m\u001b[1;34m'tokens'\u001b[0m\u001b[1;33m]\u001b[0m\u001b[1;33m.\u001b[0m\u001b[0mapply\u001b[0m\u001b[1;33m(\u001b[0m\u001b[1;32mlambda\u001b[0m \u001b[0mx\u001b[0m\u001b[1;33m:\u001b[0m\u001b[1;33m[\u001b[0m\u001b[0my\u001b[0m \u001b[1;32mfor\u001b[0m \u001b[0my\u001b[0m \u001b[1;32min\u001b[0m \u001b[0mx\u001b[0m \u001b[1;32mif\u001b[0m \u001b[0my\u001b[0m \u001b[1;32mnot\u001b[0m \u001b[1;32min\u001b[0m \u001b[0mstop\u001b[0m\u001b[1;33m]\u001b[0m\u001b[1;33m)\u001b[0m\u001b[1;33m\u001b[0m\u001b[0m\n\u001b[0m",
      "\u001b[1;31mNameError\u001b[0m: name 'df_both' is not defined"
     ]
    }
   ],
   "source": [
    "df['tokens']= df_both['tokens'].apply(lambda x:[y for y in x if y not in stop])"
   ]
  },
  {
   "cell_type": "code",
   "execution_count": 87,
   "metadata": {},
   "outputs": [],
   "source": [
    "df_both['tokens']=df_both['tokens'].apply(lambda x :[y for y in x if len(y) > 1])"
   ]
  },
  {
   "cell_type": "code",
   "execution_count": 88,
   "metadata": {},
   "outputs": [],
   "source": [
    "df_both['tokens'] = df_both['tokens'].apply(lambda x:[y.lower() for y in x])"
   ]
  },
  {
   "cell_type": "code",
   "execution_count": 89,
   "metadata": {},
   "outputs": [],
   "source": [
    "all_words = []\n",
    "\n",
    "for cell in df_both.tokens:\n",
    "    for word in cell:\n",
    "        all_words.append(word.lower())"
   ]
  },
  {
   "cell_type": "code",
   "execution_count": 90,
   "metadata": {},
   "outputs": [],
   "source": [
    "all_words = [w for w in all_words if not w.startswith('/')]"
   ]
  },
  {
   "cell_type": "code",
   "execution_count": 91,
   "metadata": {},
   "outputs": [],
   "source": [
    "all_words = [w for w in all_words if not w.startswith(\"'\")]"
   ]
  },
  {
   "cell_type": "code",
   "execution_count": 92,
   "metadata": {},
   "outputs": [
    {
     "data": {
      "text/plain": [
       "444096"
      ]
     },
     "execution_count": 92,
     "metadata": {},
     "output_type": "execute_result"
    }
   ],
   "source": [
    "len(all_words)"
   ]
  },
  {
   "cell_type": "code",
   "execution_count": 93,
   "metadata": {},
   "outputs": [],
   "source": [
    "all_words_freq = nltk.FreqDist(all_words)"
   ]
  },
  {
   "cell_type": "code",
   "execution_count": 94,
   "metadata": {},
   "outputs": [
    {
     "data": {
      "text/plain": [
       "FreqDist({'``': 14013, 'realdonaldtrump': 8615, 'http': 6073, 'https': 5981, 'great': 4694, 'trump': 4533, 'the': 3651, 'amp': 3004, \"n't\": 2735, 'president': 2669, ...})"
      ]
     },
     "execution_count": 94,
     "metadata": {},
     "output_type": "execute_result"
    }
   ],
   "source": [
    "all_words_freq"
   ]
  },
  {
   "cell_type": "code",
   "execution_count": 95,
   "metadata": {},
   "outputs": [],
   "source": [
    "word_features = list(all_words_freq.keys())[:3000]"
   ]
  },
  {
   "cell_type": "code",
   "execution_count": 96,
   "metadata": {},
   "outputs": [
    {
     "data": {
      "text/plain": [
       "['today',\n",
       " 'honor',\n",
       " 'honored',\n",
       " 'country',\n",
       " 'highest',\n",
       " 'form',\n",
       " 'service',\n",
       " 'we',\n",
       " 'owe',\n",
       " 'veterans']"
      ]
     },
     "execution_count": 96,
     "metadata": {},
     "output_type": "execute_result"
    }
   ],
   "source": [
    "word_features[0:10]"
   ]
  },
  {
   "cell_type": "code",
   "execution_count": 97,
   "metadata": {},
   "outputs": [],
   "source": [
    "def find_features(document):\n",
    "    words = set(document)\n",
    "    features = {}\n",
    "    for w in word_features:\n",
    "        features[w] = (w in words)\n",
    "\n",
    "    return features"
   ]
  },
  {
   "cell_type": "code",
   "execution_count": 98,
   "metadata": {},
   "outputs": [
    {
     "name": "stdout",
     "output_type": "stream",
     "text": [
      "{'today': True, 'honor': True, 'honored': True, 'country': True, 'highest': True, 'form': True, 'service': True, 'we': True, 'owe': True, 'veterans': True, 'thanks': True, 'respect': True, 'freedom': True, 'progress': False, 'ballot': False, 'go': False, 'vote': False, 'make': False, 'sure': False, 'friends': False, 'family': False, 'everyone': False, 'know': False, 'votes': False, 'it': False, 'pretty': False, 'simple': False, 'find': False, 'plan': False, 'get': False, 'covered': False, 'earn': False, 'peace': False, 'mind': False, 'start': False, 'https': False, 'happened': False, 'cubs': False, 'win': False, 'world': False, 'series': False, 'that': False, 'change': False, 'even': False, 'south': False, 'sider': False, 'believe': False, 'want': False, 'come': False, 'white': False, 'house': False, 'leave': False, 'say': False, 'holy': False, 'cow': False, 'fans': False, 'sox': False, 'fan': False, 'happy': False, 'see': False, 'wrigley': False, 'rocking': False, 'last': False, 'night': False, 'flythew': False, 'check': False, 'newest': False, 'science': False, 'advisors': False, 'these': False, 'kids': False, 'fearless': False, 'using': False, 'tackle': False, 'toughest': False, 'problems': False, 'inspiration': False, 'rt': False, 'vj44': False, 'lit': False, 'whitehouse': False, 'pink': False, 'tonight': False, 'commemorate': False, 'breast': False, 'cancer': False, 'awareness': False, 'month': False, 'enroll': False, 'aca': False, 'starting': False, 'nov.': False, 'htt…': False, 'outstanding': False, 'debate': False, 'sweep': False, 'hillaryclinton': False, 'nobody': False, 'ever': False, 'prepared': False, 'potus': False, 'for': False, 'loved': False, 'ones': False, 'lost': False, 'still': False, 'save': False, 'thank': False, 'joe': False, 'putting': False, 'us': False, 'path': False, 'ending': False, 'century': False, 'planned': False, 'parenthood': False, 'made': False, 'possible': False, 'women': False, 'determine': False, 'lives': False, 'here': False, 'another': False, '100yearsstrong': False, 'clearly': False, 'prevent': False, 'sexual': False, 'assault': False, 'thinking': False, 'leads': False, 'starts': False, 'congratulations': False, 'one': False, 'favorite': False, 'poets': False, 'bob': False, 'dylan': False, 'well-deserved': False, 'nobel': False, 'now': False, 'fun': False, 'artificial': False, 'intelligence': False, 'space': False, 'travel—hope': False, 'enjoy': False, 'exploring': False, 'new': False, 'frontiers': False, 'much': False, 'on': False, 'international': False, 'dayofthegirl': False, 'remain': False, 'committed': False, 'providing': False, 'daughters': False, 'future': False, 'limitless': False, 'possibility': False, 'just': False, 'like': False, 'michelle': False, 'says': False, 'low': False, 'high': False, 'went': False, 'showed': False, 'americans': False, 'voted': False, 'early': False, 'hurricane': False, 'matthew': False, 'serious': False, 'gets': False, 'listen': False, 'local': False, 'officials': False, 'prepare': False, 'take': False, 'care': False, 'every': False, 'nation': False, 'moved': False, 'bring': False, 'paris': False, 'agreement': False, 'force': False, 'history': False, 'judge': False, 'turning': False, 'point': False, 'planet': False, 'bringing': False, 'little': False, 'austin': False, 'lawn': False, 'what': False, 'usa': False, 'rydercup': False, 'proud': False, 'guys': False, 'trophy': False, 'back': False, 'home': False, 'arnie': False, 'smiling': False, 'gandhiji': False, 'believed': False, 'worthy': False, 'children': False, 'in': False, 'joining': False, 'narendramodi': False, 'amp': False, 'indian': False, 'people': False, 'carry': False, 'legacy': False, 'paid': False, \"n't\": False, 'luxury': False, 'basic': False, 'necessity': False, 'secure': False, 'working': False, 'american': False, 'our': False, 'olympians': False, 'paralympians': False, 'show': False, 'matter': False, 'perseverance': False, 'incredible': False, 'things': False, 'teamusa': False, 'could': False, 'her': False, 'vision': False, 'command': False, 'ready': False, 'next': False, 'democracy': False, 'spectator': False, 'sport': False, 'do': False, 'give': False, 'power': False, 'shape': False, 'love': False, 'nytnational': False, 'census': False, 'data': False, 'shows': False, '3.5': False, 'million': False, 'able': False, 'raise': False, 'chins': False, 'poverty': False, 'line': False, 'year': False, 'the': False, 'king': False, 'extraordinary': False, 'links': False, 'generous': False, 'others': False, 'memories': False, 'arnold': False, 'help': False, 'open': False, 'nmaahc': False, 'many': False, 'heroes': False, 'african': False, 'central': False, 'part': False, 'glorious': False, 'sabaidii': False, 'laos': False, 'first': False, 'u.s.': False, 'president': False, 'visit': False, 'begin': False, 'partnership': False, 'countries': False, 'labor': False, 'day': False, 'longest': False, 'streak': False, 'job': False, 'growth': False, 'unemployment': False, 'cut': False, 'half': False, 'hardworking': False, 'let': False, 'keep': False, 'going': False, 'congrats': False, 'nasa': False, 'scientists': False, 'taking': False, 'step': False, 'closer': False, 'mars': False, 'hawaii': False, 'shave': False, 'ice': False, 'maine-endwell': False, 'league': False, 'champs': False, 'undefeated': False, 'sportsmanship': False, 'nearly': False, '100': False, 'years': False, 'ago': False, 'broke': False, 'barriers': False, 'box': False, 'moving': False, 'equal': False, 'finish': False, 'started': False, 'strong': False, 'natlparkservice': False, 'parks': False, 'felicitaciones': False, 'juanmansantos': False, 'colombia': False, 'after': False, 'decades': False, 'war': False, 'stand': False, 'building': False, 'prouder': False, 'your': False, 'determination': False, 'passion': False, 'inspired': False, 'you': False, 'carried': False, 'flag': False, 'simone_biles': False, 'final': False, 'phelps': False, 'record': False, 'ledecky': False, 'finishes': False, 'biles': False, 'america': False, '1000': False, 'golds-way': False, 'been': False, 'waiting': False, 'drop': False, 'summer': False, 'playlist': False, 'encore': False, 'everybody': False, 'listening': False, 'struggle': False, 'voting': False, 'rights': False, 'act': False, 'taught': False, 'away': False, 'first-ever': False, 'teamrefugees': False, 'also': False, 'prove': False, 'succeed': False, 'root': False, 'team': False, 'unity': False, 'diversity': False, 'makes': False, 'reminds': False, 'sets': False, 'gold': False, 'standard': False, 'total': False, 'wages': False, 'rising': False, 'fastest': False, 'pace': False, 'long': False, 'way': False, 'america—let': False, 'great': False, 'speech': False, 'she': False, 'tested': False, 'never': False, 'quits': False, 'hillary': False, 'twitter': False, 'handle': False, 'woman': False, 'blessed': False, 'flotus': False, '¡bienvenido': False, 'amigo': False, 'value': False, 'enduring': False, 'mexico': False, 'work': False, 'strengthen': False, 'this': False, 'map': False, 'stay': False, 'safe': False, 'heats': False, 'drink': False, 'water': False, 'sun': False, 'neighbors': False, '44': False, 'men': False, 'came': False, 'chuck': False, 'kettles': False, 'man': False, 'behind': False, 'best': False, 'carla': False, 'hayden': False, 'librarian': False, 'congress': False, 'confirmation': False, 'certainly': False, 'books': False, '5-year': False, 'journey': False, 'close': False, 'personal': False, 'solar': False, 'system': False, 'largest': False, 'welcome': False, 'jupiter': False, 'nasajuno': False, 'fourth': False, 'july': False, 'and': False, 'brave': False, 'uniform': False, 'elie': False, 'wiesel': False, 'moral': False, 'voice': False, 'time': False, 'conscience': False, 'he': False, 'dear': False, 'friend': False, 'miss': False, 'deeply': False, 'marchofdimes': False, '2016': False, \"nat'l\": False, 'amb': False, 'ismael': False, 'meet': False, 'talk': False, 'need': False, 'babies': False, 'zapzika': False, 'list': False, 'goes': False, 'when': False, 'members': False, 'return': False, 'hope': False, 'share': False, 'commitment': False, 'together': False, 'must': False, 'done': False, 'asking': False, 'pass': False, 'commonsense': False, 'gun': False, 'laws': False, 'background': False, 'checks': False, 'communities': False, 'days': False, 'supreme': False, 'court': False, 'needs': False, '9th': False, 'senate': False, 'gop': False, 'refuses': False, 'consider': False, 'garland': False, 'leaving': False, 'hefty': False, 'to-do': False, 'undone': False, 'health': False, 'emergency': False, 'funding': False, 'effectively': False, 'protect': False, 'zika': False, 'sign': False, 'improve': False, 'transparency': False, 'avert': False, 'crisis': False, 'puerto': False, 'rico': False, 'hoped': False, 'use': False, 'pen': False, 'often': False, 'left': False, 'town': False, 'until': False, 'justin': False, 'good': False, 'canada': False, 'benefit': False, 'leadership': False, 'opportunities': False, 'expanded': False, 'stronger': False, 'citizens': False, 'accessible': False, 'affordable': False, 'constitutional': False, 'right': False, 'reproductive': False, 'choices': False, 'pleased': False, 'reaffirm': False, 'fact': False, 'john': False, 'lewis': False, 'leading': False, 'violence': False, 'by': False, 'giving': False, 'rating': False, 'bar': False, 'association': False, 'confirms': False, 'serve': False, 'requires': False, 'moments': False, 'silence': False, 'action': False, 'failing': False, 'test': False, 'failed': False, 'game': False, 'cavs': False, 'kingjames': False, 'cleveland': False, 'father': False, 'dads': False, 'glad': False, 'spending': False, 'yosemite': False, 'tomorrow': False, 'stateofwomen': False, 'shook': False, 'better': False, 'rest': False, 'champ': False, 'accept': False, 'level': False, 'normal': False, 'happening': False, 'wearorange': False, 'memorial': False, 'join': False, 'acts': False, 'remembrance': False, 'debt': False, 'fallen': False, 'truly': False, 'repay': False, 'honoring': False, '13': False, 'officers': False, 'beyond': False, 'call': False, 'duty': False, 'strangers': False, 'to': False, '5th': False, 'grade': False, 'teacher': False, 'ms.': False, 'mabel': False, 'educators': False, 'inspire': False, 'young': False, 'single': False, 'joined': False, '170': False, 'nations': False, 'historic': False, 'earth': False, 'got': False, 'adrianne': False, 'boston': False, 'terror': False, 'bombs': False, 'ca': False, 'beat': False, 'race': False, 'warriors': False, 'group': False, 'if': False, 'somebody': False, 'break': False, 'bulls': False, 'big': False, 'basketball': False, 'chasing': False, '73': False, 'farewell': False, 'all-timer': False, 'kobebryant': False, 'nba': False, 'feeling': False, 'designate': False, 'belmont-paul': False, 'national': False, 'monument': False, 'equality': False, 'fight': False, 'equalpay': False, 'spacex': False, 'landing': False, 'rocket': False, 'sea': False, 'innovators': False, 'continues': False, 'lead': False, 'exploration': False, 'repjohnlewis': False, '48': False, 'yrs': False, 'brother': False, 'dr.': False, 'martin': False, 'luther': False, 'jr.': False, 'shot': False, 'killed': False, 'memphis': False, 'tn': False, 'light': False, 'his…': False, 'choose': False, 'losing': False, 'paycheck': False, 'caring': False, 'applaud': False, 'nygovcuomo': False, 'rephalrogers': False, 'epidemic': False, 'discriminate': False, 'red': False, 'blue': False, 'commander-in-chief': False, 'rxsummit': False, 'critical': False, 'discussion': False, 'drug': False, 'abuse': False, 'ep…': False, 'from': False, 'easter': False, 'wish': False, 'celebrating': False, 'joyful': False, '¿que': False, 'bolá': False, 'cuba': False, 'touched': False, 'looking': False, 'forward': False, 'meeting': False, 'hearing': False, 'directly': False, 'cuban': False, 'example': False, 'tech': False, 'answering': False, 'scotusnom': False, 'chief': False, 'merrick': False, 'nominee': False, 'scotusnominee': False, 'nominate': False, 'ask': False, 'senators': False, 'fair': False, 'discussing': False, 'ways': False, 'modernize': False, 'government': False, 'smart': False, 'dynamic': False, 'soon': False, 'seniors': False, 'apply': False, 'social': False, 'security': False, 'benefits': False, 'online': False, 'families': False, 'afford': False, 'diapers': False, 'private': False, 'sector': False, 'fix': False, 'immigrants': False, 'renew': False, 'green': False, 'cards': False, 'faster': False, 'prep': False, 'citizenship': False, 'civics': False, 'takes': False, 'students': False, 'financial': False, 'aid': False, 'two-thirds': False, 'simplified': False, 'fafsa': False, 'at': False, 'sxsw': False, 'case': False, 'innovation': False, 'already': False, 'internationalwomensday': False, 'free': False, 'pursue': False, 'dreams': False, 'prosperous': False, 'stationcdrkelly': False, 'vital': False, 'travel': False, 'gravity': False, 'drag': False, 'play': False, 'ball': False, 'isiah': False, 'kindness': False, 'willingness': False, 'hopeful': False, 'strides': False, 'malaria': False, 'saving': False, 'millions': False, 'road': False, 'ahead': False, 'advance': False, 'efforts': False, 'differences': False, 'always': False, 'human': False, 'around': False, 'flies': False, 'embassy': False, 'havana': False, 'more': False, 'traveling': False, '50': False, '14': False, 'months': False, 'announced': False, 'would': False, 'normalizing': False, 'relations': False, 'significant': False, 'view': False, 'yesterday': False, 'lands': False, 'protected': False, 'preserve': False, 'natural': False, 'beauty': False, 'einstein': False, 'nsf': False, 'ligo': False, 'detecting': False, 'gravitational': False, 'waves': False, 'huge': False, 'breakthrough': False, 'understand': False, 'universe': False, 'ace': False, 'ap': False, 'calc': False, 'landon': False, 'knowledge': False, 'phone': False, 'coach': False, 'kubiak': False, 'peyton': False, 'von': False, 'miller': False, 'monster': False, 'broncos': False, 'defense': False, 'news': False, 'signed': False, 'round': False, 'insurance': False, 'cedrick': False, 'perfect': False, 'score': False, 'how': False, 'someone': False, 'coverage': False, 'head': False, 'took': False, 'important': False, 'pay': False, 'girl': False, 'success': False, 'clearer': False, 'everything': False, 'combat': False, 'climate': False, 'seven': False, 'bet': False, 'workers': False, 'auto': False, 'industry': False, 'week': False, 'cars': False, 'trucks': False, 'fuel': False, 'efficient': False, 'automakers': False, 'added': False, '640,000': False, 'jobs': False, 'since': False, 'mid-2009': False, 'strongest': False, '2009': False, 'sales': False, 'hit': False, '27-year': False, 'all-time': False, 'headed': False, 'detroit': False, 'showcase': False, 'roaring': False, 'stats': False, 'challenged': False, 'bend': False, 'arc': False, 'toward': False, 'justice': False, 'realize': False, 'dream': False, 'alright': False, 'lot': False, 'conversation': False, 'places': False, 'gabbygiffords': False, 'everytown': False, 'well-meaning': False, 'folks': False, 'stripes': False, 'info': False, '2a': False, 'reduce': False, 'passed': False, 'standing': False, 'truman': False, 'balcony': False, 'staff': False, 'whod': False, 'happen': False, 'knowing': False, 'helped': False, 'despite': False, 'cases': False, 'united': False, 'ill': False, 'orgs/states': False, 'across': False, 'politics': False, 'speak': False, 'bias': False, 'stereotypes': False, 'well': False, 'overwhelming': False, 'majority': False, 'religious': False, 'pluralism': False, 'greatest': False, 'strengths': False, 'inflation': False, 'lowest': False, 'problem': False, 'costs': False, 'thru': False, 'copays': False, 'etc': False, 'em': False, 'mj': False, 'baton': False, 'rouge': False, 'met': False, 'lsu': False, 'freshman': False, 'ben': False, 'simmons': False, 'plant': False, 'rule': False, 'reduces': False, 'biggest': False, 'source': False, 'co2': False, 'invest': False, 'clean': False, 'energy': False, 'efficiency': False, 'la': False, 'gov': False, 'edwards': False, 'medicaid': False, '1000s': False, 'helps': False, 'state': False, 'budget': False, 'states': False, 'follow': False, 'pell': False, 'grants': False, 'capped': False, 'loan': False, 'repayments': False, '10': False, 'income': False, 'community': False, 'college': False, 'before': False, 'wanted': False, 'liberia': False, 'ebola-free': False, 'achieve': False, 'hey': False, 'answer': False, 'questions': False, 'mckinley': False, 'school': False, 'askpotus': False, 'ideas': False, 'accomplish': False, '12:30p': False, 'et': False, 'treating': False, 'union': False, 'hungry': False, 'tune': False, 'so': False, 'scott': False, 'delay': False, 'about': False, 'denis': False, 'pointers': False, 'lobby': False, 'may': False, 'holding': False, 'hostage': False, 'hold': False, 'carnage': False, 'ignored': False, 'owners': False, 'agree': False, 'steps': False, 'guns': False, 'wrong': False, 'hands': False, 'enforce': False, 'ensure': False, 'mental': False, 'illnesses': False, 'treatment': False, 'protecting': False, 'second': False, 'amendment': False, 'kill': False, 'almost': False, 'stop': False, 'each': False, '30,000': False, 'short': False, 'coming': False, 'suicides': False, 'too': False, 'obama': False, 'merry': False, 'christmas': False, 'special': False, 'holiday': False, 'season': False, 'sympathy': False, 'victims': False, 'enough': False, 'speaking': False, 'zaevion': False, 'dobson': False, 'died': False, 'three': False, 'getting': False, 'hero': False, '15': False, 'excuse': False, 'acting': False, 'nasa_hubble': False, 'found': False, 'looks': False, 'cosmic': False, 'lightsaber': False, 'milky': False, 'galaxy': False, 'starwars': False, 'career': False, 'abby': False, 'wambach': False, 'goals': False, 'scored': False, 'goat': False, 'means': False, 'safer': False, 'opioid': False, 'destroying': False, 'put': False, 'within': False, 'reach': False, 'anyone': False, 'herzlichen': False, 'glückwunsch': False, 'person': False, 'angela': False, 'merkel': False, '150': False, 'abolition': False, 'slavery': False, 'story': False, 'addressing': False, 'especially': False, 'all-in': False, 'worldwide': False, 'adds': False, 'capacity': False, 'dirtier': False, 'fossil-fuel': False, 'based': False, 'enjoyed': False, 'stopping': False, 'upshur': False, 'street': False, 'celebrate': False, 'small': False, 'business': False, 'saturday': False, 'supporting': False, 'near': False, 'thanksgiving': False, 'slamming': False, 'door': False, 'face': False, 'refugees': False, 'betray': False, 'deepest': False, 'values': False, 'welcoming': False, 'vulnerable': False, 'seek': False, 'safety': False, 'safely': False, 'welcomed': False, '1975': False, 'focus': False, 'syrians': False, 'survivors': False, 'torture': False, 'provide': False, 'refuge': False, 'least': False, '10,000': False, 'fleeing': False, 'syria': False, 'desperately': False, 'seeking': False, 'isil': False, 'top': False, 'priority': False, 'with': False, '65': False, 'global': False, 'partners': False, 'campaign': False, 'degrade': False, 'destroy': False, 'capt': False, 'groberg': False, 'worst': False, 'gave': False, 'served': False, 'their': False, 'sacrifice': False, 'selflessness': False, 'none': False, 'launched': False, 'facebook': False, 'page': False, 'video': False, 'deserves': False, 'quality': False, 'who': False, 'knew': False, 'policing': False, 'involve': False, 'nae': False, 'police': False, 'keeping': False, 'chicagobulls': False, 'seered': False, 'thoughts': False, 'mexican': False, 'brace': False, 'patricia': False, 'usaid': False, 'disaster': False, 'experts': False, 'ground': False, 'realmikefox': False, 'think': False, 'live': False, 'dreamed': False, 'heavy': False, 'eager': False, 'hear': False, 'charleston': False, 'actions': False, 'recovery': False, 'showing': False, 'approach': False, 'substance': False, 'disorders': False, 'opportunity': False, 'intervene': False, 'rather': False, 'incarcerate': False, 'disease': False, 'expect': False, 'wait': False, 'danger': False, 'self-diagnose': False, 'heroin': False, 'users': False, 'misusing': False, 'prescription': False, 'opioids': False, 'heroin-related': False, 'deaths': False, 'quadrupled': False, '2002': False, '2013': False, 'powerful': False, 'painkillers': False, 'skyrocketed': False, '2012': False, 'prescriptions': False, 'written': False, 'adult': False, 'bottle': False, 'pills': False, '120': False, 'die': False, 'overdoses': False, 'involving': False, 'legal': False, 'drugs': False, 'car': False, 'crashes': False, 'heading': False, 'west': False, 'virginia': False, 'facts': False, 'factsonclimate': False, 'threatens': False, 'solve': False, 'chance': False, 'catch': False, 'space_station': False, 'crew': False, 'nothing': False, 'astronomynight': False, 'ceos': False, 'companies': False, 'stepping': False, 'actonclimate': False, 'bottom': False, 'hokuleawwv': False, 'reaching': False, 'africa—midpoint': False, 'voyage': False, 'spread': False, 'message': False, 'malamahonua': False, 'whitesox': False, 'rooting': False, 'zack': False, 'responsibility': False, 'forced': False, 'homes': False, 'http': False, 'but': False, 'ngos': False, 'increasing': False, 'number': False, 'syrian': False, 'admit': False, '100,000': False, 'per': False, 'two': False, 'provided': False, '4.5': False, 'billion': False, 'humanitarian': False, 'impacted': False, 'conflict': False, '12': False, 'displaced': False, 'as': False, 'sit': False, 'idly': False, 'grateful': False, 'teachers': False, 'spark': False, 'sense': False, 'curiosity': False, '62milliongirls': False, 'yogi': False, 'berra': False, 'original': False, 'hall': False, 'famer': False, 'jovial': False, 'prophet': False, 'humble': False, 'veteran': False, 'ai': False, 'pontifex': False, 'messages': False, 'getcovered': False, 'nov': False, 'sacred': False, 'foundation': False, 'register': False, 'cool': False, 'clock': False, 'ahmed': False, 'fought': False, 'slip': False, 'urge': False, 'send': False, 'invests': False, 'office': False, 'deficit': False, 'reached': False, '9.2': False, 'gdp': False, '2.8': False, '15.4': False, 'population': False, 'uninsured': False, 'third': False, 'flatlining': False, 'sell': False, '2001': False, 'rate': False, '5.1': False, '800,000': False, 'businesses': False, '13.1': False, '66': False, 'straight': False, 'lehman': False, 'brothers': False, 'filed': False, 'bankruptcy': False, 'setting': False, 'far': False, '``': False, 'might': False, 'hard': False, 'filling': False, '5timesfafsa': False, 'terrorist': False, 'attacks': False, '9/11': False, 'salute': False, 'iran': False, 'deal': False, 'preventing': False, 'obtaining': False, 'nuclear': False, 'weapon': False, 'colin': False, 'experience': False, 'expertise': False, 'initiative': False, 'alaska': False, 'inspiring': False, 'have': False, 'sake—and': False, 'returning': False, 'mount': False, 'native': False, 'name': False, 'denali': False, 'reflect': False, 'heritage': False, 'natives': False, 'treme': False, 'katrina': False, 'gives': False, 'amidst': False, 'volatility': False, 'momentum': False, 'growing': False, 'economy': False, 'avoid': False, 'shutdown': False, 'austerity': False, 'park': False, '99': False, '84': False, 'acres': False, 'treasures': False, 'carter': False, 'praying': False, 'rosalynn': False, 'pulling': False, 'jimmy': False, 'due': False, 'popular': False, 'request': False, 'vacation': False, 'playlists': False, 'song': False, 'johnkerry': False, 'usembcuba': False, 'secstate': False, 'visited': False, 'fdr': False, 'countless': False, 'sacrificed': False, 'voices': False, 'heard': False, '1965': False, 'faced': False, 'poll': False, 'taxes': False, 'literacy': False, 'tests': False, 'count': False, 'jellybeans': False, 'jar': False, 'tried': False, 'johnson': False, 'law': False, 'securing': False, 'lapse': False, 'dark': False, 'side': False, 'moon': False, 'passing': False, 'ingenuity': False, 'detail': False, 'secret': False, 'deals': False, 'my': False, 'brief': False, 'question': False, 'choice': False, 'ultimately': False, 'diplomacy': False, 'program': False, 'accelerates': False, 'kills': False, 'negotiated': False, 'there': False, 'thing': False, 'walking': False, 'risks': False, 'refuse': False, 'condemn': False, 'fixing': False, 'challenge': False, 'critics': False, 'tell': False, 'average': False, '85': False, 'bills': False, '90,000': False, 'fewer': False, 'asthma': False, 'among': False, '3,600': False, 'premature': False, '2030': False, 'carbon': False, 'pollution': False, 'plants': False, '32': False, 'lower': False, 'decade': False, 'account': False, 'one-third': False, 'airplanes': False, 'combined': False, 'levels': False, 'dioxide': False, 'atmosphere': False, 'higher': False, '2014': False, 'warmest': False, 'announcing': False, 'plan—the': False, 'taken': False, 'loving': False, 'photos': False, 'look': False, 'window': False, 'freak': False, 'launching': False, 'pilot': False, 'prison': False, 'willing': False, '50th': False, 'birthday': False, 'medicare': False, 'programs': False, 'promise': False, 'measure': False, 'dignity': False, '25': False, 'ada': False, 'disabilities': False, 'breaking': False, 'making': False, 'kenya': False, 'kenyans': False, 'e.l.': False, 'doctorow': False, 'novelists': False, 'his': False, 'missed': False, 'theirandeal': False, 'irandeal': False, 'succeeds': False, 'verifying': False, 'obtain': False, 'marble': False, 'photo': False, 'beautiful': False, 'reminder': False, 'had': False, 'emma': False, 'didlake': False, 'oldest': False, 'living': False, '110-years-young': False, 'true': False, 'oregon': False, 'student': False, 'access': False, 'education': False, 'pluto': False, 'visitor': False, 'discovery': False, 'tom': False, 'friedman': False, 'major': False, 'mass': False, 'incarceration': False, 'build': False, 'prisons': False, '2nd': False, 'eliminate': False, 'tuition': False, 'public': False, 'university': False, '80': False, 'spend': False, 'incarcerations': False, 'double': False, 'salary': False, 'incarcerated': False, 'universal': False, 'pre-k': False, '3-year-old': False, '4-year-old': False, '1980': False, '500,000': False, 'jails': False, '2.2': False, 'belong': False, 'nonviolent': False, 'offenders': False, 'keeps': False, 'bars': False, '35': False, 'european': False, 'prisoners': False, 'spoke': False, 'naacp': False, 'criminal': False, 'reform': False, 'something': False, 'broadly': False, 'some': False, 'carolina': False, 'confederate': False, 'signal': False, 'healing': False, 'meaningful': False, 'towards': False, 'carlilloyd': False, 'cup': False, 'mine': False, 'loaner': False, 'maybe': False, 'sometime': False, 'instead': False, 'hotelkeys': False, '23yrold': False, 'recent': False, 'grad': False, 'full-time': False, 'acaworks': False, 'crazywritinfool': False, 'switch': False, 'providers': False, 'preexisting': False, 'c…': False, 'randynaverysmom': False, 'dad': False, 'biz': False, 'owner': False, 'allowed': False, 'life': False, 'screening…': False, 'notoriousllt': False, 'sister': False, 'legally': False, 'blind': False, 'disability': False, 'b/c': False, 'glaucoma': False, 'sight': False, 'aff…': False, 'ta': False, 'butler': False, 'player': False, 'term': False, 'lack': False, 'info/turned': False, 'political': False, 'noise': False, 'pushing': False, 'comm': False, 'permit': False, 'refinancing': False, 'loans': False, 'push': False, 'colleges': False, 'nyt': False, 'buying': False, 'peas': False, 'guac': False, 'onions': False, 'garlic': False, 'hot': False, 'peppers': False, 'classic': False, 'outkast/liberation': False, 'black': False, 'keys/lonely': False, 'boy': False, 'morning': False, 'hardship': False, 'exemption': False, 'fine': False, 'applies': False, 'principles': False, 'issues': False, 'passionate': False, 'worry': False, 'ex-im': False, 'bank': False, 'export': False, 'paying': False, 'optimistic': False, 'encourage': False, 'held': False, 'reasons': False, 'contact': False, 'sleep': False, 'beats': False, 'insurers': False, 'premium': False, 'hikes': False, 'approved': False, 'increases': False, 'less': False, 'advantage': False, 'expansion': False, 'insure': False, 'mil': False, '22': False, 'hello': False, 'nashville': False, '3:30pm': False, 'tweet': False, 'uswnt': False, 'finals': False, 'extend': False, 'overtime': False, 'protections': False, 'grace': False, 'shown': False, 'hatewontwin': False, 'march': False, 'gay': False, 'lesbian': False, 'couples': False, 'marry': False, 'else': False, 'lovewins': False, '137': False, 'guaranteed': False, 'preventive': False, 'screenings': False, 'birth': False, 'control': False, 'out-of-pocket': False, 'cost': False, 'longer': False, 'charged': False, '129': False, 'pre-existing': False, 'conditions': False, 'denied': False, '16': False, 'gained': False, 'decision': False, 'victory': False, 'privilege': False, 'luck': False, 'onenationoneteam': False, 'expressions': False, '297x': False, 'japan': False, '49x': False, 'france': False, '33x': False, 'israel': False, 'mitt': False, 'midst': False, 'darkest': False, 'tragedy': False, 'decency': False, 'goodness': False, 'shines': False, 'wrote': False, 'god': False, 'creation': False, 'thrilled': False, 'formally': False, 'recognize': False, 'lorettalynch': False, 'lawyer': False, 'partner': False, 'epic': False, 'steph': False, 'kudos': False, 'lebron': False, 'unbelievable': False, 'effort': False, 'adversity': False, 'hometown': False, 'nhlblackhawks': False, 'titles': False, 'mentorship': False, 'grads': False, 'briefing': False, 'advisor': False, 'hubble': False, 'crowded': False, 'place': False, 'finally': False, 'protects': False, 'civil': False, 'liberties': False, 'awarded': False, 'medals': False, 'bravery': False, 'justineintampa': False, '30': False, 'promoting': False, 'lizhadly': False, 'scientist': False, 'weknowenoughtoact': False, 'run': False, 'apat246': False, 'thibs': False, 'sorry': False, 'snatched': False, 'zcarlander': False, 'china': False, 'brazil': False, 'develop': False, 'plans': False, 'arianastover': False, 'instinctively': False, 'importance': False, 'environment': False, 'impact': False, 'animals': False, 'weave': False, 'studies': False, 'htetwint': False, 'renewable': False, 'key': False, 'increased': False, '10x': False, 'wind': False, '3x': False, 'regulatory': False, 'incentives': False, 'jamesthe4tress': False, 'interest': False, 'rates': False, 'hlf3267': False, 'trade': False, 'enforceable': False, 'environmental': False, 'provisions': False, 'raising': False, 'standards': False, 'asia': False, 'severe': False, 'weather': False, 'events': False, 'displacement': False, 'scarcity': False, 'stressed': False, 'populations': False, 'increase': False, 'likelihood': False, 'nathenvieira': False, 'jr': False, 'smith': False, 'heart': False, 'outshoot': False, 'curry': False, 'korver': False, 'wide': False, '.gkermmm': False, '2/': False, 'gkermmm': False, '1/': False, 'tpp': False, 'legislation': False, 'full': False, 'text': False, '60': False, 'drock89': False, 'leaders': False, 'stated': False, 'obligation': False, 'generation': False, 'bigbennyfl': False, '3/': False, 'rejected': False, 'shell': False, 'proposal': False, 'inadequate': False, 'oil': False, 'completely': False, 'region': False, 'shut': False, 'drilling': False, 'sensitive': False, 'arctic': False, 'areas': False, 'including': False, 'bristol': False, 'bay': False, 'calebmegajew': False, 'move': False, 'opinion': False, 'preparedness': False, 'miami': False, 'qs': False, '1pm': False, 'spent': False, 'arlington': False, 'forever': False, 'indebted': False, 'drfahmida': False, 'niece': False, 'really': False, 'letter': False, 'rebsteve': False, 'singing': False, 'shabbat': False, 'shalom': False, 'prek': False, 'class': False, 'downstairs': False, 'an': False, 'address': False, 'coast': False, 'guard': False, '2015': False, 'confident': False, 'challenges': False, 'billclinton': False, 'comes': False, 'interested': False, 'camden': False, 'seeing': False, 'first-hand': False, 'trust': False, 'barack': False, 'six': False, 'andres': False, 'manuel': False, 'lopez': False, 'obrador': False, 'becoming': False, 'larryelder': False, 'beware': False, 'trumpderangementsyndrome': False, 'numerous': False, 'victories': False, 'selection': False, 'exciting': False, 'times': False, 'liberal': False, 'known': False, 'democrats': False, 'rid': False, 'fantastic': False, 'borders': False, 'crime': False, 'rampant': False, 'uncontrollable': False, 'again': False, 'interviewed': False, 'mariabartiromo': False, '10:00': False, 'a.m.': False, 'foxnews': False, 'illegally': False, 'immediately': False, 'escort': False, 'without': False, 'maneuvering': False, 'dumbest': False, 'anywhere': False, 'republicans': False, 'dems': False, 'weak': False, 'sunday': False, 'a.': False, 'm.': False, 'either': False, 'elect': False, 'november': False, 'end': False, 'ridiculous': False, 'filibuster': False, 'yet': False, 'cryinâ€™': False, 'weâ€™ll': False, 'awaits': False, 'pushed': False, 'immigration': False, 'bill': False, 'goodlatte': False, 'gotten': False, 'threshold': False, 'released': False, 'prior': False, 'seen': False, 'sean': False, 'spicer': False, 'book': False, 'â€œthe': False, 'press': False, 'president.â€�': False, 'told': False, 'monday': False, '4th': False, 'salman': False, 'saudi': False, 'arabia': False, 'explained': False, 'turmoil': False, 'disfunction': False, 'venezuela': False, 'production': False, '2,000,000': False, 'barrels': False, 'difference': False, '...': False, 'prices': False, 'agreed': False, 'lose': False, 'spirit': False, 'eradicating': False, 'elements': False, 'radical': False, 'zero': False, 'abolish': False, 'smartest': False, 'spirited': False, 'enforcement': False, 'groups': False, 'watched': False, 'liberate': False, 'towns': False, 'grasp': False, 'ms-13': False, 'situations': False, 'they': False, 'danscavino': False, 'â€œ': False, 'govmikehuckabee': False, 'trump': False, 'moses': False, 'itâ€�': False, 'realdonaldtrump': False, 'tax': False, 'cuts': False, 'received': False, 'bonuses': False, 'raises': False, 'retirement': False, 'câ€¦': False, 'horrific': False, 'shooting': False, 'capital': False, 'gazetâ€¦': False, 'ivankatrump': False, 'secpompeo': False, 'talented': False, 'colleagues': False, 'statedept': False, 'herâ€¦': False, 'senator': False, 'alexander': False, 'technical': False, '11+': False, 'oâ€¦': False, 'built': False, 'foxconn': False, 'wisconsin': False, 'governor': False, 'walker': False, 'govwalker': False, 'representatives': False, 'pulled': False, 'foxbusiness': False, 'tremendous': False, 'peopâ€¦': False, 'scavino45': False, 'icegov': False, 'york': False, 'operation': False, 'arrests': False, 'dozen': False, 'darknet': False, 'vendors': False, 'selling': False, 'illicit': False, 'goods': False, 'weapons': False, 'seized': False, 'morâ€¦': False, 'contributions': False, 'taxcutsandjobsact': False, 'gazette': False, 'newsroom': False, 'annapolis': False, 'maryland': False, 'attack': False, 'shocked': False, 'filled': False, 'hearts': False, 'grief': False, 'departing': False, 'briefed': False, 'prayers': False, 'responders': False, 'currently': False, 'scene': False, 'is': False, '15,000': False, 'discovered': False, 'hire': False, 'grow': False, 'milwaukee': False, 'meetings': False, 'groundbreaking': False, 'electronics': False, '.persecuted': False, 'old': False, 'and/or': False, 'totally': False, 'unrelated': False, 'charges': False, 'collusion': False, 'obstruction': False, 'fbi': False, 'doj': False, 'crooked': False, 'dnc': False, 'lies': False, 'disgraceful': False, 'situation': False, 'mueller': False, 'conflicts': False, 'why': False, 'will': False, 'listed': False, '22,000,000': False, 'report': False, 'angry': False, 'sent': False, 'jail': False, 'peter': False, 'strzok': False, 'worked': False, 'leader': False, 'rigged': False, 'witch': False, 'hunt': False, 'period': False, 'fired': False, 'gig': False, 'remember': False, 'orders': False, 'comey': False, 'mccabe': False, 'mueller/comey': False, 'sharkgregnorman': False, 'foxandfriends': False, 'said': False, 'â€œpresident': False, 'all': False, 'u.s.â€�': False, 'greg': False, 'youâ€™re': False, 'amy': False, 'kremer': False, 'amykremer': False, 'russia': False, 'meddling': False, 'election': False, 'where': False, 'server': False, 'didnâ€™t': False, 'shady': False, 'james': False, 'disgraced': False, 'agents': False, 'closely': False, 'examine': False, 'isnâ€™t': False, 'hillary/russia': False, 'looked': False, 'corruption': False, 'lover': False, 'agent': False, 'given': False, 'poor': False, 'marks': False, 'yesterdayâ€™s': False, 'closed': False, 'testimony': False, 'according': False, 'reports': False, 'refused': False, 'conflicted': False, 'addresses': False, 'â€': False, 'selfless': False, 'servants': False, 'harmâ€™s': False, 'protesters': False, 'anarchy': False, 'response': False, 'order': False, 'shameless': False, 'courageous': False, 'extremist': False, 'democrat': False, 'politicians': False, 'called': False, 'complete': False, 'elimination': False, 'leftwing': False, 'activists': False, 'trying': False, 'block': False, 'publicly': False, 'posting': False, 'north': False, 'dakota': False, 'maga': False, 'landed': False, 'senjohnhoeven': False, 'repkevincramer': False, 'scheels': False, 'arena': False, 'shortly': False, 'marcelo': False, 'rebelo': False, 'de': False, 'sousa': False, 'portugal': False, 'ðÿ‡ºðÿ‡¸ðÿ‡µðÿ‡¹': False, 'fully': False, 'endorse': False, 'kevin': False, 'cramer': False, 'congressman': False, 'hopefully': False, 'represent': False, 'tough': False, 'loves': False, 'military': False, 'vets': False, 'ndsen': False, 'statement': False, 'anthony': False, 'kennedy': False, 'scotus': False, 'universities': False, 'harley-davidson': False, 'iâ€™ve': False, 'other': False, 'wonâ€™t': False, 'forget': False, 'neither': False, 'customers': False, 'competitors': False, 'rules': False, 'favor': False, 'non-union': False, 'support': False, 'candidate': False, 'deciding': False, 'loss': False, 'coffers': False, 'should': False, 'ii': False, 'afternoon': False, 'though': False, 'passage': False, 'while': False, 'maxine': False, 'waters': False, 'whose': False, 'crazy': False, 'rants': False, 'nancy': False, 'pelosi': False, 'unhinged': False, 'party': False, 'fear': False, 'iâ€™m': False, 'conclusive': False, 'romney': False, 'd.c': False, 'legendary': False, 'gary': False, 'turnberry': False, 'scotland': False, 'lady': False, 'the_trump_train': False, 'unchecked': False, 'certain': False, 'elections': False, 'no': False, 'wow': False, 'hater': False, 'crowley': False, 'expected': False, 'pelosiâ€™s': False, 'primary': False, 'words': False, 'heâ€™s': False, 'saw': False, 'perhaps': False, 'nicer': False, 'respectful': False, 'dan': False, 'donovan': False, 'courage': False, 'staten': False, 'island': False, 'elected': False, 'henry': False, 'mcmaster': False, 'peggy': False, 'henrymcmaster': False, 'defended': False, 'lieutenant': False, 'garlin': False, 'murl': False, 'conner': False, 'although': False, '20': False, 'rightful': False, 'eternal': False, 'chronicle': False, 'valor': False, 'presents': False, 'medal': False, 'upholds': False, 'ban': False, 'profound': False, 'era': False, 'was': False, 'conspiracy': False, 'department': False, 'donald': False, 'core': False, 'â€�': False, 'andrew': False, 'napolitano': False, 'established': False, 'unlimited': False, '.and': False, 'pick': False, 'pres': False, 'country-never': False, 'employees': False, 'watch': False, 'beginning': False, 'surrendered': False, 'quit': False, 'aura': False, 'gone': False, 'taxed': False, 'created': False, 'out': False, 'down': False, '.we': False, 'finishing': False, 'study': False, 'tariffs': False, 'e.u': False, '.when': False, 'chided': False, 'india': False, 'harley': False, 'unfairly': False, 'used': False, 'farmers': False, 'opening': False, 'markets': False, 'expanding': False, 'footprint': False, 'operations': False, 'kansas': False, 'city': False, 'thailand': False, 'hence': False, 'tariffs/trade': False, 'unbalanced': False, 'unfair': False, '..': False, 'letâ€™s': False, 'rally': False, 'hating': False, 'frauds': False, 'television': False, 'expose': False, 'mark': False, 'warner': False, 'd-va': False, 'drunken': False, 'claiming': False, 'information': False, 'knows': False, 'highly': False, 'illegal': False, 'investigated': False, 'kingabdullahii': False, 'queenrania': False, 'hashemite': False, 'kingdom': False, 'jordan': False, 'whitâ€¦': False, 'â€œdirector': False, 'david': False, 'lynch': False, 'presidentsâ€�': False, 'surprised': False, 'wave': False, 'e.u.': False, 'hurt': False, 'badly': False, '151': False, 'patient': False, 'congresswoman': False, 'extraordinarily': False, 'iq': False, 'become': False, 'harm': False, 'supporters': False, 'movement': False, 'be': False, 'careful': False, 'max': False, 'erictrump': False, 'economic': False, 'optimism': False, '51': False, 'excellent': False, 'cnbc': False, 'hâ€¦': False, 'trumpgolf': False, 'trumpcharlotte': False, 'member': False, 'scottmccarron': False, 'amfamchamp': False, 'thisâ€¦': False, 'marcorubio': False, 'haters': False, 'havenâ€™t': False, 'realized': False, 'condescension': False, 'doâ€¦': False, 'â€œfighters': False, '7:00': False, 'p.m': False, '.if': False, 'stopped': False, 'itâ€™s': False, 'tracks': False, 'comparison': False, 'real': False, 'continue': False, 'wall': False, 'hiring': False, 'manythousands': False, 'judges': False, 'complicated': False, 'process': False, 'disfunctional': False, 'simply': False, 'border': False, 'brought': False, 'such': False, 'media': False, 'policies': False, 'administration': False, 'actually': False, 'facilities': False, 'cleaner': False, 'fake': False, 'uninvolved': False, 'discredited': False, 'expensive': False, 'arenâ€™t': False, 'requested': False, 'documents': False, 'hen': False, 'restaurant': False, 'cleaning': False, 'filthy': False, 'canopies': False, 'doors': False, 'windows': False, 'paint': False, 'refusing': False, 'sarah': False, 'huckabee': False, 'sanders': False, 'dirty': False, 'outside': False, 'inside': False, 'former': False, 'attorney': False, 'general': False, 'michael': False, 'mukasey': False, 'probably': False, 'correct': False, 'surveillance': False, 'tower': False, 'greater': False, 'repclayhiggins': False, 'cutting': False, 'creating': False, 'healthcare': False, 'fighting': False, 'endorsement': False, 'louisiana': False, 'clay': False, 'easily': False, 'resist': False, 'donâ€™t': False, 'clayhiggins18': False, 'jimmyfallon': False, 'whimpering': False, 'famous': False, 'â€œhair': False, 'showâ€�': False, 'seriously': False, 'messed': False, 'hair': False, 'differently': False, 'â€œhumanizedâ€�': False, 'me-he': False, 'heat': False, 'â€œmonster': False, 'ratings.â€�': False, 'insisting': False, 'placed': False, 'remove': False, 'reciprocity': False, 'u.s.a.': False, '.our': False, 'policy': False, 'laughed': False, 'merit': False, 'allow': False, 'invade': False, 'mockery': False, 'most': False, 'parents': False, 'bush': False, 'strength': False, 'can': False, 'journal': False, 'piece': False, 'talking': False, 'russian': False, 'disgrace': False, 'bad': False, 'sham': False, 'nvgop': False, 'clarence': False, 'thomas': False, 'sad': False, 'sidekick': False, 'schumer': False, 'wants': False, 'huckabeeontbn': False, 'sits': False, 'discuss': False, 'relâ€¦': False, 'nevada': False, 'countryâ€™s': False, 'numbers': False, 'potential': False, 'along': False, 'representative': False, 'katie': False, 'arrington': False, 'involved': False, 'nights': False, 'accident': False, 'likes': False, 'keith': False, 'vp': False, 'pence': False, 'pittsburgh': False, 'pennsylvania': False, 'strongly': False, 'endorsed': False, 'finest': False, 'rothfusforpa': False, 'running': False, 'lambthesham': False, 'telling': False, 'drudge': False, 'â€œobama': False, 'kept': False, 'them': False, 'cages': False, 'wrapped': False, 'foilâ€�': False, 'maintaining': False, 'mainstream': False, 'hates': False, 'â€œdisability': False, 'applications': False, 'plunge': False, 'strengthensâ€�': False, 'manufacturers': False, '95.1': False, 'â€œhave': False, 'positive': False, 'outlook': False, 'companies.â€�': False, 'associationâ€™s': False, 'plummet': False, 'lying': False, 'hate': False, 'investigators': False, 'scam': False, 'ron': False, 'desantis': False, 'yale': False, 'harvard': False, 'ofâ€¦': False, 'presssec': False, 'shameful': False, 'exploited': False, 'agenda': False, 'separated': False, 'fromâ€¦': False, 'jessebwatters': False, 'ðÿ': False, 'tpusa': False, 'ðÿš¨happening': False, 'delivers': False, 'remarks': False, 'angel': False, 'gathered': False, 'citizeâ€¦': False, 'loyalty': False, 'isâ€¦': False, 'oval': False, 'remarkâ€¦': False, 'potusâ€™': False, 'pro-business': False, 'game-changer': False, 'economiâ€¦': False, 'steel': False, 'fast': False, 'adding': False, 'maintain': False, 'weâ€¦': False, 'fairest': False, 'comprehensive': False, 'anywâ€¦': False, 'broken': False, 'removed': False, 'placing': False, 'tariff': False, 'u.s': False, 'permanently': False, 'aliens': False, 'ignores': False, 'opec': False, 'output': False, 'substantially': False, 'southern': False, 'overrun': False, 'phony': False, 'stories': False, 'sadness': False, 'hoping': False, 'pictures': False, 'mexicoâ€™s': False, 'exports': False, 'rely': False, 'pathetically': False, 'ineffective': False, 'ðÿ‡ºðÿ‡¸ðÿ‡ºðÿ‡¸ðÿ‡ºðÿ‡¸': False, 'florida': False, 'martha': False, 'roby': False, 'alabama': False, 'consistent': False, 'reliable': False, 'republican': False, 'run-off': False, 'congressional': False, 'district': False, 's.c': False, 'vice': False, 'wasting': False, 'congressmen/women': False, 'playing': False, 'games': False, 'intention': False, 'anything': False, 'solves': False, 'obstructing': False, 'motto': False, 'ours': False, 'produce': False, 'needed': False, 'obstructionists': False, 'râ€™s': False, 'jeanine': False, 'pirro': False, 'â€œliars': False, 'leakers': False, 'liberals': False, 'against': False, 'anti-trump': False, 'whether': False, 'reason': False, 'â€œheart': False, 'dem': False, 'weakness': False, 'â€œi': False, 'melaniaâ€™s': False, 'jacket': False, 'refers': False, 'melania': False, 'learned': False, 'dishonest': False, 'cares': False, 'internet': False, 'fairness': False, 'consumers': False, 'retailers': False, 'farm': False, 'requirements': False, 'included': False, 'minnesota': False, 'roundtable': False, 'patriots': False, 'affects': False, 'package': False, 'varneyco': False, 'swiftly': False, 'loopholes': False, 'supported': False, 'booming': False, 'records': False, 'endrosement': False, 'purpose': False, 'obstruct': False, 'feel': False, 'mid-terms': False, 'stupid': False, 'rule-it': False, 'killing': False, 'crowd': False, 'mititary': False, 'columbia': False, 'loyal': False, 'reciprocating': False, 'mess': False, 'easy': False, 'heâ€™ll': False, 'shouldnâ€™t': False, 'thousands': False, 'demand': False, 'changing': False, 'phrase': False, 'password': False, '9,000': False, 'petestauber': False, 'respected': False, 'duluth': False, 'wanting': False, 'packed': False, 'wonderful': False, 'abc': False, 'guess': False, 'stopthebias': False, 'capitol': False, 'applauded': False, 'loudly': False, 'mentioned': False, 'sanford': False, 'pastordscott': False, 'once': False, 'mid': False, 'terms': False, 'detained': False, 'immigrant': False, '2020': False, 'itsaâ€¦': False, 'globalgolfpost': False, 'golf': False, 'legend': False, 'five-time': False, 'championship': False, 'winner': False, 'thomson': False, 'read': False, 'â€œfbi': False, 'texts': False, 'revealed': False, 'bias.â€�': False, 'doesnâ€™t': False, 'cover': False, 'turned': False, 'correctly': False, 'korea': False, 'kim': False, 'jong': False, 'un': False, 'summit': False, 'exactly': False, 'amazing': False, 'theâ€¦': False, 'fault': False, 'breeds': False, 'horrible': False, 'ends': False, 'mentioning': False, 'weakest': False, 'obstruct-want': False, 'housegop': False, 'earlier': False, 'felipe': False, 'vi': False, 'queen': False, 'letizia': False, 'spain': False, 'ðÿ‡ºðÿ‡¸ðÿ‡ªðÿ‡¸': False, 'homeland': False, 'secnielsen': False, 'fabulous': False, 'conference': False, 'explaining': False, 'recommending': False, 'changes': False, 'obsolete': False, 'nasty': False, 'separation': False, 'â€œheartâ€�': False, 'moment': False, 'current': False, 'nfib': False, 'nfib75': False, 'tickets': False, 'changethelaws': False, 'arrest': False, 'of': False, '12,000': False, 'dangerous': False, 'trip': False, '2000': False, 'enter': False, 'occasions': False, 'pour': False, 'infest': False, 'canâ€™t': False, 'terrible': False, 'voters': False, 'germany': False, 'plus': False, 'crimes': False, 'migrants': False, 'accepted': False, 'worse': False, 'concerning': False, 'officer': False, 'suggesting': False, 'powers': False, 'affect': False, 'inspector': False, 'horowitz': False, 'regarding': False, 'strozk': False, 'marching': False, 'comeyâ€™s': False, 'nowhere': False, 'initial': False, 'named': False, 'boarder': False, 'devastated': False, 'criminals': False, 'has': False, 'not': False, 'europe': False, 'migration': False, 'tenuous': False, 'berlin': False, 'coalition': False, 'mistake': False, 'allowing': False, 'violently': False, 'changed': False, 'culture': False, 'worldâ€™s': False, 'outcry': False, 'killings': False, 'caused': False, 'gangs': False, 'thugs': False, 'witnessed': False, 'officer.â€�': False, 'trey': False, 'gowdy': False, 'fbiâ€™s': False, 'slippery': False, 'robert': False, 'sick': False, 'counterparts': False, 'loser': False, 'lisa': False, 'â€œweâ€™ll': False, 'stopâ€�': False, 'supposed': False, 'enemy': False, 'spin': False, 'truth': False, 'oh': False, 'hoax': False, 'ig': False, 'destroys': False, 'minions': False, 'lovers': False, 'paâ€¦': False, 'historyâ€¦': False, 'breakup': False, 'chanâ€¦': False, '17': False, 'dynasty': False, 'clinton': False, 'iâ€¦': False, 'washington': False, 'post': False, 'strike': False, 'bezos': False, 'idea': False, 'money': False, 'extended': False, 'wapo': False, 'registered': False, 'lobbyist': False, 'denuclearization': False, 'praised': False, 'celebrated': False, 'over': False, 'fail': False, 'potentially': False, 'â€œwar': False, 'gamesâ€�': False, 'negotiations': False, 'very': False, 'set': False, 'faith': False, 'negotiation': False, 'quite': False, 'provocative': False, 'talks': False, 'funny': False, 'coordinated': False, 'sooo': False, 'â€œmet.â€�': False, 'thatâ€™s': False, 'disparage': False, 'hostages/remains': False, 'daniel': False, 'henninger': False, 'â€œthis': False, 'clear': False, 'rod': False, 'rosensteinâ€™s': False, 'memo': False, 'absolutely': False, 'justified': False, 'unquestionably': False, 'firing': False, 'jim': False, 'investigation': False, 'grounds': False, 'now.â€�': False, 'please': False, 'texans': False, 'cattle': False, 'hat.â€�': False, 'testing': False, 'rockets': False, 'flying': False, 'blew': False, 'launch': False, 'sites': False, 'hostages': False, 'remains': False, 'â€œamericans': False, 'lawmakers': False, 'defeat': False, 'everâ€¦': False, 'innocent': False, 'distroys': False, 'gather': False, 'forcing': False, 'cruel': False, 'legislative': False, 'anyâ€¦': False, 'discussions': False, 'commission': False, 'jean-claude': False, 'juncker': False, 'eu': False, 'council': False, 'tusk': False, 'g7summit': False, 'relationship': False, 'implying': False, 'anger': False, 'negotiating': False, 'sentence': False, 'paul': False, 'manafort': False, 'represented': False, 'ronald': False, 'reagan': False, 'dole': False, 'campaigns': False, 'mob': False, 'any': False, 'release': False, 'visa': False, 'lottery': False, 'chain': False, 'â€œdonald': False, 'fire': False, 'comey.â€�': False, 'levin': False, 'bombshell': False, 'texted': False, 'presiâ€¦': False, 'finds': False, 'bureau': False, 'employee': False, 'â€œviva': False, 'le': False, 'resistanceâ€�': False, 'httâ€¦': False, 'damning': False, 'rebukes': False, 'weâ€™ve': False, 'seen.â€�': False, 'jasoninthehouse': False, '562': False, 'pages': False, 'animus': False, 'tainted': False, 'â€œwhy': False, 'guy': False, 'asks': False, 'rated': False, 'front': False, 'iâ€™ll': False, 'unannounced': False, 'opponent': False, 'raised': False, 'regulations': False, 'compliments': False, 'kraft': False, 'advice': False, 'sadly': False, 'officially': False, 'instincts': False, 'christopher': False, 'wray': False, 'proudly': False, 'investigations': False, 'flagdayðÿ‡ºðÿ‡¸': False, '243rd': False, 'usarmy': False, 'sacrifices': False, 'dedication': False, '.schneiderman': False, 'ran': False, 'guts': False, 'lingered': False, 'resigned': False, 'disciples': False, 'settle': False, 'sleazy': False, 'a.g.': False, 'eric': False}\n"
     ]
    }
   ],
   "source": [
    "print(find_features(df_both.iloc[0,3]))"
   ]
  },
  {
   "cell_type": "code",
   "execution_count": 99,
   "metadata": {},
   "outputs": [],
   "source": [
    "df_both['feature_presence'] = df_both['tokens'].apply(find_features)"
   ]
  },
  {
   "cell_type": "code",
   "execution_count": 100,
   "metadata": {},
   "outputs": [],
   "source": [
    "labeled_presidents_features = ([(tweet, 'o') for tweet in df_both.iloc[:321]['feature_presence']] + [(tweet,'t') for tweet in df_both.iloc[322:]['feature_presence']]) "
   ]
  },
  {
   "cell_type": "code",
   "execution_count": 101,
   "metadata": {},
   "outputs": [
    {
     "data": {
      "text/plain": [
       "37744"
      ]
     },
     "execution_count": 101,
     "metadata": {},
     "output_type": "execute_result"
    }
   ],
   "source": [
    "len(labeled_presidents_features)"
   ]
  },
  {
   "cell_type": "code",
   "execution_count": 102,
   "metadata": {},
   "outputs": [],
   "source": [
    "shuffled = random.shuffle(labeled_presidents_features)"
   ]
  },
  {
   "cell_type": "code",
   "execution_count": 103,
   "metadata": {},
   "outputs": [],
   "source": [
    "train = labeled_presidents_features[:30000]\n",
    "test = labeled_presidents_features[30001:]"
   ]
  },
  {
   "cell_type": "code",
   "execution_count": 104,
   "metadata": {},
   "outputs": [],
   "source": [
    "classifier = nltk.NaiveBayesClassifier.train(train)"
   ]
  },
  {
   "cell_type": "code",
   "execution_count": 105,
   "metadata": {},
   "outputs": [
    {
     "name": "stdout",
     "output_type": "stream",
     "text": [
      "Classifier accuracy: 99.22510654784968\n"
     ]
    }
   ],
   "source": [
    "print(\"Classifier accuracy:\",(nltk.classify.accuracy(classifier, test))*100)"
   ]
  },
  {
   "cell_type": "code",
   "execution_count": 106,
   "metadata": {},
   "outputs": [
    {
     "name": "stdout",
     "output_type": "stream",
     "text": [
      "Most Informative Features\n",
      "                askpotus = True                o : t      =    612.3 : 1.0\n",
      "                mckinley = True                o : t      =    204.1 : 1.0\n",
      "             exploration = True                o : t      =    204.1 : 1.0\n",
      "                   fafsa = True                o : t      =    204.1 : 1.0\n",
      "             commonsense = True                o : t      =    204.1 : 1.0\n",
      "                  havana = True                o : t      =    204.1 : 1.0\n",
      "                     aca = True                o : t      =    149.7 : 1.0\n",
      "                   stats = True                o : t      =    122.5 : 1.0\n",
      "                policing = True                o : t      =    122.5 : 1.0\n",
      "                sympathy = True                o : t      =    122.5 : 1.0\n",
      "                 alright = True                o : t      =    122.5 : 1.0\n",
      "          astronomynight = True                o : t      =    122.5 : 1.0\n",
      "                    grad = True                o : t      =    122.5 : 1.0\n",
      "                   users = True                o : t      =    122.5 : 1.0\n",
      "              automakers = True                o : t      =    122.5 : 1.0\n",
      "                   sider = True                o : t      =    122.5 : 1.0\n",
      "                      73 = True                o : t      =    122.5 : 1.0\n",
      "                   eager = True                o : t      =    122.5 : 1.0\n",
      "                 broadly = True                o : t      =    122.5 : 1.0\n",
      "                    ceos = True                o : t      =    122.5 : 1.0\n",
      "                     137 = True                o : t      =    122.5 : 1.0\n",
      "                  heroin = True                o : t      =    122.5 : 1.0\n",
      "                   pre-k = True                o : t      =    122.5 : 1.0\n",
      "             differences = True                o : t      =    122.5 : 1.0\n",
      "               all-timer = True                o : t      =    122.5 : 1.0\n",
      "                    yogi = True                o : t      =    122.5 : 1.0\n",
      "               liberties = True                o : t      =    122.5 : 1.0\n",
      "           sportsmanship = True                o : t      =    122.5 : 1.0\n",
      "                   shave = True                o : t      =    122.5 : 1.0\n",
      "                  joyful = True                o : t      =    122.5 : 1.0\n",
      "                struggle = True                o : t      =    122.5 : 1.0\n",
      "                   jails = True                o : t      =    122.5 : 1.0\n",
      "                  signal = True                o : t      =    122.5 : 1.0\n",
      "               librarian = True                o : t      =    122.5 : 1.0\n",
      "                   weave = True                o : t      =    122.5 : 1.0\n",
      "                    capt = True                o : t      =    122.5 : 1.0\n",
      "         stationcdrkelly = True                o : t      =    122.5 : 1.0\n",
      "               limitless = True                o : t      =    122.5 : 1.0\n",
      "                 balcony = True                o : t      =    122.5 : 1.0\n",
      "                 didlake = True                o : t      =    122.5 : 1.0\n",
      "              screenings = True                o : t      =    122.5 : 1.0\n",
      "                   shell = True                o : t      =    122.5 : 1.0\n",
      "                     2.2 = True                o : t      =    122.5 : 1.0\n",
      "                     fdr = True                o : t      =    122.5 : 1.0\n",
      "               offenders = True                o : t      =    122.5 : 1.0\n",
      "           space_station = True                o : t      =    122.5 : 1.0\n",
      "                 dirtier = True                o : t      =    122.5 : 1.0\n",
      "                      3x = True                o : t      =    122.5 : 1.0\n",
      "           nhlblackhawks = True                o : t      =    122.5 : 1.0\n",
      "                   bombs = True                o : t      =    122.5 : 1.0\n",
      "                  3:30pm = True                o : t      =    122.5 : 1.0\n",
      "                 tuition = True                o : t      =    122.5 : 1.0\n",
      "                  arctic = True                o : t      =    122.5 : 1.0\n",
      "                   spark = True                o : t      =    122.5 : 1.0\n",
      "                literacy = True                o : t      =    122.5 : 1.0\n",
      "                  champs = True                o : t      =    122.5 : 1.0\n",
      "                  safely = True                o : t      =    122.5 : 1.0\n",
      "                 involve = True                o : t      =    122.5 : 1.0\n",
      "                    emma = True                o : t      =    122.5 : 1.0\n",
      "                  asthma = True                o : t      =    122.5 : 1.0\n",
      "                  denali = True                o : t      =    122.5 : 1.0\n",
      "               overdoses = True                o : t      =    122.5 : 1.0\n",
      "               illnesses = True                o : t      =    122.5 : 1.0\n",
      "           out-of-pocket = True                o : t      =    122.5 : 1.0\n",
      "                   grads = True                o : t      =    122.5 : 1.0\n",
      "                 crowded = True                o : t      =    122.5 : 1.0\n",
      "                 wrigley = True                o : t      =    122.5 : 1.0\n",
      "               exploring = True                o : t      =    122.5 : 1.0\n",
      "                   berra = True                o : t      =    122.5 : 1.0\n",
      "           gabbygiffords = True                o : t      =    122.5 : 1.0\n",
      "                     ace = True                o : t      =    122.5 : 1.0\n",
      "                 diapers = True                o : t      =    122.5 : 1.0\n",
      "                   noise = True                o : t      =    122.5 : 1.0\n",
      "                pointers = True                o : t      =    122.5 : 1.0\n",
      "                    1975 = True                o : t      =    122.5 : 1.0\n",
      "                    2002 = True                o : t      =    122.5 : 1.0\n",
      "              vulnerable = True                o : t      =    122.5 : 1.0\n",
      "                     10x = True                o : t      =    122.5 : 1.0\n",
      "                    1980 = True                o : t      =    122.5 : 1.0\n",
      "                 healing = True                o : t      =    122.5 : 1.0\n",
      "                     sox = True                o : t      =    122.5 : 1.0\n",
      "               educators = True                o : t      =    122.5 : 1.0\n",
      "                    mars = True                o : t      =    122.5 : 1.0\n",
      "               frontiers = True                o : t      =    122.5 : 1.0\n",
      "                formally = True                o : t      =    122.5 : 1.0\n",
      "            prescription = True                o : t      =    122.5 : 1.0\n",
      "                 lesbian = True                o : t      =    122.5 : 1.0\n",
      "                 groberg = True                o : t      =    122.5 : 1.0\n",
      "                    nasa = True                o : t      =     93.6 : 1.0\n",
      "                   moral = True                o : t      =     89.8 : 1.0\n",
      "               diversity = True                o : t      =     87.5 : 1.0\n",
      "                    2030 = True                o : t      =     87.5 : 1.0\n",
      "                  babies = True                o : t      =     87.5 : 1.0\n",
      "                rydercup = True                o : t      =     73.5 : 1.0\n",
      "              inadequate = True                o : t      =     73.5 : 1.0\n",
      "                    dads = True                o : t      =     73.5 : 1.0\n",
      "                   sweep = True                o : t      =     73.5 : 1.0\n",
      "                  refuge = True                o : t      =     73.5 : 1.0\n",
      "                  finals = True                o : t      =     73.5 : 1.0\n",
      "                 prouder = True                o : t      =     73.5 : 1.0\n",
      "                   drink = True                o : t      =     73.5 : 1.0\n",
      "               modernize = True                o : t      =     73.5 : 1.0\n",
      "                   pills = True                o : t      =     73.5 : 1.0\n",
      "                   quits = True                o : t      =     73.5 : 1.0\n",
      "               necessity = True                o : t      =     73.5 : 1.0\n",
      "                   hoped = True                o : t      =     73.5 : 1.0\n",
      "                   repay = True                o : t      =     73.5 : 1.0\n",
      "              preventive = True                o : t      =     73.5 : 1.0\n",
      "               expertise = True                o : t      =     73.5 : 1.0\n",
      "                    urge = True                o : t      =     73.5 : 1.0\n",
      "                  census = True                o : t      =     73.5 : 1.0\n",
      "                yosemite = True                o : t      =     73.5 : 1.0\n",
      "              simplified = True                o : t      =     73.5 : 1.0\n",
      "              incentives = True                o : t      =     73.5 : 1.0\n",
      "                farewell = True                o : t      =     73.5 : 1.0\n",
      "               sensitive = True                o : t      =     73.5 : 1.0\n",
      "               curiosity = True                o : t      =     73.5 : 1.0\n",
      "            preparedness = True                o : t      =     73.5 : 1.0\n",
      "                 crashes = True                o : t      =     73.5 : 1.0\n",
      "  internationalwomensday = True                o : t      =     73.5 : 1.0\n",
      "                  titles = True                o : t      =     73.5 : 1.0\n",
      "                 strides = True                o : t      =     73.5 : 1.0\n",
      "                    tech = True                o : t      =     73.5 : 1.0\n",
      "                 bristol = True                o : t      =     73.5 : 1.0\n",
      "            narendramodi = True                o : t      =     73.5 : 1.0\n",
      "                 prisons = True                o : t      =     73.5 : 1.0\n",
      "                  spacex = True                o : t      =     73.5 : 1.0\n",
      "                   avert = True                o : t      =     73.5 : 1.0\n",
      "               treasures = True                o : t      =     73.5 : 1.0\n",
      "                 rocking = True                o : t      =     73.5 : 1.0\n",
      "              nonviolent = True                o : t      =     73.5 : 1.0\n",
      "                    holy = True                o : t      =     73.5 : 1.0\n",
      "                  betray = True                o : t      =     73.5 : 1.0\n",
      "              disability = True                o : t      =     73.5 : 1.0\n",
      "               involving = True                o : t      =     73.5 : 1.0\n",
      "                   faced = True                o : t      =     73.5 : 1.0\n",
      "                  export = True                o : t      =     73.5 : 1.0\n",
      "                  tested = True                o : t      =     73.5 : 1.0\n",
      "                  marble = True                o : t      =     73.5 : 1.0\n",
      "               efficient = True                o : t      =     73.5 : 1.0\n",
      "                      84 = True                o : t      =     73.5 : 1.0\n",
      "                    isil = True                o : t      =     68.0 : 1.0\n",
      "                 teamusa = True                o : t      =     68.0 : 1.0\n",
      "              population = True                o : t      =     65.9 : 1.0\n",
      "                 uniform = True                o : t      =     65.9 : 1.0\n",
      "                    cuba = True                o : t      =     64.1 : 1.0\n",
      "                warriors = True                o : t      =     57.2 : 1.0\n",
      "                pontifex = True                o : t      =     55.7 : 1.0\n",
      "                  newest = True                o : t      =     55.7 : 1.0\n",
      "                  austin = True                o : t      =     55.7 : 1.0\n"
     ]
    }
   ],
   "source": [
    "classifier.show_most_informative_features(150)"
   ]
  },
  {
   "cell_type": "code",
   "execution_count": 107,
   "metadata": {},
   "outputs": [],
   "source": [
    "import pickle"
   ]
  },
  {
   "cell_type": "code",
   "execution_count": 108,
   "metadata": {},
   "outputs": [],
   "source": [
    "with open('presidents_classifier.pickle','wb') as f:\n",
    "    pickle.dump(classifier,f)"
   ]
  },
  {
   "cell_type": "code",
   "execution_count": 109,
   "metadata": {},
   "outputs": [],
   "source": [
    "from nltk.classify.scikitlearn import SklearnClassifier\n",
    "from sklearn.naive_bayes import MultinomialNB,BernoulliNB\n",
    "from sklearn.linear_model import LogisticRegression, SGDClassifier\n",
    "from sklearn.svm import SVC, LinearSVC, NuSVC"
   ]
  },
  {
   "cell_type": "code",
   "execution_count": null,
   "metadata": {},
   "outputs": [],
   "source": [
    "MNB_classifier = SklearnClassifier(MultinomialNB())\n",
    "MNB_classifier.train(train)\n",
    "print(\"MultinomialNB accuracy percent:\",nltk.classify.accuracy(MNB_classifier, test))"
   ]
  },
  {
   "cell_type": "code",
   "execution_count": null,
   "metadata": {},
   "outputs": [],
   "source": [
    "BNB_classifier = SklearnClassifier(BernoulliNB())\n",
    "BNB_classifier.train(train)\n",
    "print(\"BernoulliNB accuracy percent:\",nltk.classify.accuracy(BNB_classifier, test))\n",
    "\n",
    "LogisticRegression_classifier = SklearnClassifier(LogisticRegression())\n",
    "LogisticRegression_classifier.train(train)\n",
    "print(\"LogisticRegression_classifier accuracy percent:\", (nltk.classify.accuracy(LogisticRegression_classifier, test))*100)\n",
    "\n",
    "SGDClassifier_classifier = SklearnClassifier(SGDClassifier())\n",
    "SGDClassifier_classifier.train(train)\n",
    "print(\"SGDClassifier_classifier accuracy percent:\", (nltk.classify.accuracy(SGDClassifier_classifier, test))*100)\n",
    "\n",
    "SVC_classifier = SklearnClassifier(SVC())\n",
    "SVC_classifier.train(train)\n",
    "print(\"SVC_classifier accuracy percent:\", (nltk.classify.accuracy(SVC_classifier, test))*100)\n",
    "\n",
    "LinearSVC_classifier = SklearnClassifier(LinearSVC())\n",
    "LinearSVC_classifier.train(train)\n",
    "print(\"LinearSVC_classifier accuracy percent:\", (nltk.classify.accuracy(LinearSVC_classifier, test))*100)\n",
    "\n",
    "NuSVC_classifier = SklearnClassifier(NuSVC())\n",
    "NuSVC_classifier.train(train)\n",
    "print(\"NuSVC_classifier accuracy percent:\", (nltk.classify.accuracy(NuSVC_classifier, test))*100)"
   ]
  },
  {
   "cell_type": "code",
   "execution_count": 111,
   "metadata": {},
   "outputs": [],
   "source": [
    "a = 'Just met John James of Michigan. He has every single quality to be your next Great Senator from Michigan. When the people of Michigan get to know John, they will say he is a true star. Also, distinguished Military and a Combat Vet!'"
   ]
  },
  {
   "cell_type": "code",
   "execution_count": 115,
   "metadata": {},
   "outputs": [],
   "source": [
    "a_tokens = word_tokenize(a)"
   ]
  },
  {
   "cell_type": "code",
   "execution_count": 117,
   "metadata": {},
   "outputs": [],
   "source": [
    "a_features = find_features(a_tokens)"
   ]
  },
  {
   "cell_type": "code",
   "execution_count": 118,
   "metadata": {},
   "outputs": [
    {
     "data": {
      "text/plain": [
       "'t'"
      ]
     },
     "execution_count": 118,
     "metadata": {},
     "output_type": "execute_result"
    }
   ],
   "source": [
    "classifier.classify(a_features)"
   ]
  },
  {
   "cell_type": "code",
   "execution_count": 127,
   "metadata": {},
   "outputs": [],
   "source": [
    "b = \"Yesterday I met with high school students on Chicago’s Southwest side who spent the summer learning to code some pretty cool apps. Michelle and I are proud to support programs that invest in local youth and we’re proud of these young people.\""
   ]
  },
  {
   "cell_type": "code",
   "execution_count": 128,
   "metadata": {},
   "outputs": [],
   "source": [
    "b_tokens = word_tokenize(b)"
   ]
  },
  {
   "cell_type": "code",
   "execution_count": 129,
   "metadata": {},
   "outputs": [],
   "source": [
    "b_features = find_features(b_tokens)"
   ]
  },
  {
   "cell_type": "code",
   "execution_count": 130,
   "metadata": {},
   "outputs": [
    {
     "data": {
      "text/plain": [
       "'o'"
      ]
     },
     "execution_count": 130,
     "metadata": {},
     "output_type": "execute_result"
    }
   ],
   "source": [
    "classifier.classify(b_features)"
   ]
  }
 ],
 "metadata": {
  "kernelspec": {
   "display_name": "Python 3",
   "language": "python",
   "name": "python3"
  },
  "language_info": {
   "codemirror_mode": {
    "name": "ipython",
    "version": 3
   },
   "file_extension": ".py",
   "mimetype": "text/x-python",
   "name": "python",
   "nbconvert_exporter": "python",
   "pygments_lexer": "ipython3",
   "version": "3.6.5"
  }
 },
 "nbformat": 4,
 "nbformat_minor": 2
}
